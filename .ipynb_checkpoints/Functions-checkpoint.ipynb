{
 "cells": [
  {
   "cell_type": "code",
   "execution_count": 1,
   "id": "7173478d-cdce-4719-a74a-7def6223b7c8",
   "metadata": {},
   "outputs": [
    {
     "name": "stdout",
     "output_type": "stream",
     "text": [
      "[NbConvertApp] Converting notebook functions.ipynb to script\n",
      "[NbConvertApp] Writing 0 bytes to functions.txt\n"
     ]
    }
   ],
   "source": [
    "# Converts Notebook to Python Script\n",
    "#!jupyter nbconvert --to script functions.ipynb"
   ]
  },
  {
   "cell_type": "code",
   "execution_count": null,
   "id": "2c4ddfab-5922-49f7-afd2-29edd67cb546",
   "metadata": {},
   "outputs": [],
   "source": [
    "import requests\n",
    "from bs4 import BeautifulSoup\n",
    "\n",
    "def scrape_average_rental_prices(df_neighbourhoods):\n",
    "    # Initialize an empty dictionary to store neighbourhood names and their average prices\n",
    "    average_prices = {}\n",
    "    \n",
    "    # Iterate over the rows of the DataFrame\n",
    "    for index, row in df_neighbourhoods.iterrows():\n",
    "        # Extract neighbourhood group and neighbourhood from each row\n",
    "        neighbourhood_group = row['neighbourhood_group']\n",
    "        neighbourhood = row['neighbourhood']\n",
    "        \n",
    "        # Construct the URL dynamically using the neighbourhood group and neighbourhood\n",
    "        url = f\"https://www.propertynest.com/for-rent/{neighbourhood_group}/{neighbourhood}/\"\n",
    "        \n",
    "        # Make a GET request to the URL\n",
    "        response = requests.get(url)\n",
    "        # print(url)\n",
    "    \n",
    "        # Check if the request was successful\n",
    "        if response.status_code == 200:\n",
    "            soup = BeautifulSoup(response.content, 'html.parser')\n",
    "            price_elements = soup.find_all('span', class_='avg-rental-list__result')\n",
    "            \n",
    "            if price_elements:\n",
    "                prices = [price_element.get_text(strip=True) for price_element in price_elements]\n",
    "                average_prices[neighbourhood] = prices\n",
    "            else:\n",
    "                print(f\"Price not found for {neighbourhood} in group {neighbourhood_group}, moving on.\")\n",
    "                continue \n",
    "\n",
    "    return average_prices"
   ]
  },
  {
   "cell_type": "code",
   "execution_count": null,
   "id": "fa6fcf1b-8ae8-4046-9deb-0fc1a12ea9f9",
   "metadata": {},
   "outputs": [],
   "source": [
    "def calculate_median_rental_prices(average_prices):\n",
    "\n",
    "    # Initialize an empty list to store the neighbourhood and its corresponding median price\n",
    "    neighbourhood_data = []\n",
    "    \n",
    "    # Iterate through the dictionary to calculate the median price for each neighbourhood\n",
    "    for neighbourhood, prices in average_prices.items():\n",
    "        # Clean the prices and convert them to float, while handling any invalid prices (like 'N/A')\n",
    "        cleaned_prices = []\n",
    "        for price in prices:\n",
    "            try:\n",
    "                cleaned_price = float(price.replace('$', '').replace(',', ''))\n",
    "                cleaned_prices.append(cleaned_price)\n",
    "            except ValueError:\n",
    "                continue\n",
    "        \n",
    "        # Calculate the median price\n",
    "        if cleaned_prices:  # Ensure there are valid prices to calculate the median\n",
    "            median_price = statistics.median(cleaned_prices)\n",
    "        else:\n",
    "            median_price = None  # If there are no valid prices, set median as None\n",
    "        \n",
    "        # Add the neighbourhood and its median price to the list\n",
    "        neighbourhood_data.append({'neighbourhood': neighbourhood, 'median_price': median_price})\n",
    "    \n",
    "    # Create the DataFrame from the list\n",
    "    df_median_prices = pd.DataFrame(neighbourhood_data)\n",
    "    \n",
    "    df_median_prices.dropna(inplace = True)\n",
    "    \n",
    "    df_median_prices.to_csv('neighbourhood_prices.csv', index=False)\n",
    "\n",
    "    return df_median_prices"
   ]
  }
 ],
 "metadata": {
  "kernelspec": {
   "display_name": "Python [conda env:base] *",
   "language": "python",
   "name": "conda-base-py"
  },
  "language_info": {
   "codemirror_mode": {
    "name": "ipython",
    "version": 3
   },
   "file_extension": ".py",
   "mimetype": "text/x-python",
   "name": "python",
   "nbconvert_exporter": "python",
   "pygments_lexer": "ipython3",
   "version": "3.12.7"
  }
 },
 "nbformat": 4,
 "nbformat_minor": 5
}
