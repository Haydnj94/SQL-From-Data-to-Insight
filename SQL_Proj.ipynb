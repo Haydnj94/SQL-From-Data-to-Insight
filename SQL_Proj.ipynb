{
 "cells": [
  {
   "cell_type": "code",
   "execution_count": 606,
   "id": "dec03073-d814-4e21-80f2-1b88640327b7",
   "metadata": {},
   "outputs": [],
   "source": [
    "import pandas as pd\n",
    "import statistics\n",
    "import import_ipynb\n",
    "import functions\n",
    "from functions import scrape_average_rental_prices, calculate_median_rental_prices\n",
    "\n",
    "# Load the dataset into a DataFrame\n",
    "df = pd.read_csv('Data/AB_NYC_2019.csv')\n",
    "\n",
    "# Rename columns for better clarity\n",
    "df.rename(columns={'name': 'description', 'id': 'property_id'}, inplace=True)\n",
    "\n",
    "# Remove rows where all values are missing\n",
    "df.dropna(how='all', inplace=True)\n",
    "\n",
    "# Fill missing values for specific columns with default values\n",
    "df.fillna({'reviews_per_month': 'Unknown', 'last_review': 'Unknown'}, inplace=True)\n",
    "\n",
    "# Update 'reviews_per_month' to 0 for listings with 0 reviews\n",
    "df.loc[df['number_of_reviews'] == 0, 'reviews_per_month'] = 0\n",
    "\n",
    "# Set 'last_review' to 'Never' for listings with 0 reviews\n",
    "df.loc[df['number_of_reviews'] == 0, 'last_review'] = 'Never'\n",
    "\n",
    "# Remove any instances of \"'\" (apostrophe) in the 'neighbourhood' column\n",
    "df['neighbourhood_group'] = df['neighbourhood_group'].str.replace(\"'\", \"\", regex=False)\n",
    "df['neighbourhood_group'] = df['neighbourhood_group'].str.replace(\".\", \"\", regex=False)\n",
    "df['neighbourhood_group'] = df['neighbourhood_group'].str.replace(' ', '-', regex=False)\n",
    "df['neighbourhood_group'] = df['neighbourhood_group'].str.lower()\n",
    "\n",
    "df['neighbourhood'] = df['neighbourhood'].str.replace(\"'\", \"\", regex=False)\n",
    "df['neighbourhood'] = df['neighbourhood'].str.replace(\".\", \"\", regex=False)\n",
    "df['neighbourhood'] = df['neighbourhood'].str.replace(' ', '-', regex=False)\n",
    "df['neighbourhood'] = df['neighbourhood'].str.lower()\n",
    "\n",
    "# Define the mapping for neighbourhood name changes\n",
    "neighbourhood_mapping = {\n",
    "    'bay-terrace,-staten-island': 'bay-terrace',\n",
    "    'east-morrisania': 'morrisania', \n",
    "    'fordham': 'fordham-manor',\n",
    "    'sea-gate': 'seagate',\n",
    "    'stuyvesant-town': 'stuyvesant-town-cooper-village',\n",
    "    'concourse-village': 'concourse',\n",
    "    'gramercy': 'gramercy-park',\n",
    "    'rockaway-beach': 'rockaway-park', \n",
    "    'flatbush': 'flatbush-ditmas-park',  \n",
    "}\n",
    "\n",
    "# Replace the values in the 'neighbourhood' column using the mapping\n",
    "df['neighbourhood'] = df['neighbourhood'].replace(neighbourhood_mapping)\n",
    "\n",
    "df_cleaned = df[['property_id', 'description', 'neighbourhood', 'room_type', 'price', 'minimum_nights', 'number_of_reviews', \n",
    "                 'reviews_per_month', 'availability_365', 'host_id', 'host_name', 'calculated_host_listings_count']]"
   ]
  },
  {
   "cell_type": "code",
   "execution_count": 561,
   "id": "1c945026-c54d-4e48-9696-8c7e9e8ec62a",
   "metadata": {},
   "outputs": [],
   "source": [
    "# Create a new DataFrame containing property-related details\n",
    "df_property = df[['property_id', 'description', 'neighbourhood', \n",
    "                  'room_type', 'price', 'minimum_nights',\n",
    "                  'reviews_per_month', 'availability_365', 'host_id']]\n",
    "\n",
    "# Create a separate DataFrame containing host-related details\n",
    "df_host = df[['host_id', 'host_name', 'calculated_host_listings_count']]"
   ]
  },
  {
   "cell_type": "code",
   "execution_count": 563,
   "id": "1d93f292-02c1-4baa-b940-9a6273d9268f",
   "metadata": {},
   "outputs": [],
   "source": [
    "# Select the relevant columns from the original dataframe: 'neighbourhood_group' and 'neighbourhood'\n",
    "df_neighbourhoods = df[['neighbourhood_group', 'neighbourhood']]\n",
    "\n",
    "# Remove duplicate rows based on the selected columns\n",
    "df_neighbourhoods = df_neighbourhoods.drop_duplicates()\n",
    "\n",
    "# Reset the index of the dataframe to have a continuous range of index values\n",
    "df_neighbourhoods = df_neighbourhoods.reset_index(drop=True)"
   ]
  },
  {
   "cell_type": "raw",
   "id": "c11db192-0914-43a1-a9d4-28cdaa195f16",
   "metadata": {},
   "source": [
    "# Calling functions\n",
    "average_prices = scrape_average_rental_prices(df_neighbourhoods)\n",
    "df_median_prices = calculate_median_rental_prices(average_prices)\n",
    "\n",
    "''' \n",
    "Calling the scraping function took so long, so we executed it and saved the results as a csv file for ease of use.\n",
    "'''"
   ]
  },
  {
   "cell_type": "code",
   "execution_count": 45,
   "id": "bbd65026-a1bd-4af1-ad8e-823f96aaee97",
   "metadata": {},
   "outputs": [],
   "source": [
    "df_nh_prices = pd.read_csv('Data/neighbourhood_prices.csv')"
   ]
  },
  {
   "cell_type": "code",
   "execution_count": 47,
   "id": "6745a1ad-7640-4d40-b653-71cc35f2e2c5",
   "metadata": {},
   "outputs": [],
   "source": [
    "inflation_rate = 0.02 \n",
    "years = 6\n",
    "\n",
    "# arp = apartment renting price\n",
    "df_nh_prices['arp_2019'] = df_nh_prices['median_price'] / ((1 + inflation_rate) ** years)\n",
    "\n",
    "df_nh_prices['arp_2019'] = df_nh_prices['arp_2019'].round()"
   ]
  },
  {
   "cell_type": "code",
   "execution_count": 49,
   "id": "fd80dc3a-e909-4a5b-a215-3be2571c7a9d",
   "metadata": {},
   "outputs": [],
   "source": [
    "# Deleted 'median_price' column\n",
    "del df_nh_prices['median_price']"
   ]
  },
  {
   "cell_type": "code",
   "execution_count": 51,
   "id": "0ef01fb7-1687-4abc-9a00-34208ccc5ffb",
   "metadata": {},
   "outputs": [],
   "source": [
    "# Merged both datasets\n",
    "df_merged = pd.merge(df_cleaned, df_nh_prices, on='neighbourhood', how='left')"
   ]
  },
  {
   "cell_type": "code",
   "execution_count": 53,
   "id": "43c55afb-b091-4a4f-8e23-d9a69470c535",
   "metadata": {},
   "outputs": [],
   "source": [
    "# Drop any null values\n",
    "df_merged.dropna(how='any', inplace = True)"
   ]
  },
  {
   "cell_type": "code",
   "execution_count": 716,
   "id": "28e3eb25-79d1-407c-9f05-424227120cca",
   "metadata": {},
   "outputs": [],
   "source": [
    "# export as csv table to use in SQL\n",
    "df_merged.to_csv('AirBnB_NY_arp2019.csv', index=False)"
   ]
  }
 ],
 "metadata": {
  "kernelspec": {
   "display_name": "Python [conda env:base] *",
   "language": "python",
   "name": "conda-base-py"
  },
  "language_info": {
   "codemirror_mode": {
    "name": "ipython",
    "version": 3
   },
   "file_extension": ".py",
   "mimetype": "text/x-python",
   "name": "python",
   "nbconvert_exporter": "python",
   "pygments_lexer": "ipython3",
   "version": "3.12.7"
  }
 },
 "nbformat": 4,
 "nbformat_minor": 5
}
